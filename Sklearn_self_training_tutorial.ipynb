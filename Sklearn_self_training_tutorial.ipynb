{
 "cells": [
  {
   "cell_type": "markdown",
   "id": "12bb80aa",
   "metadata": {},
   "source": [
    "# Semi-Supervised Learning: Tutorial"
   ]
  },
  {
   "cell_type": "code",
   "execution_count": 1,
   "id": "d12fb691",
   "metadata": {},
   "outputs": [],
   "source": [
    "''' 기본 모듈 및 시각화 모듈 '''\n",
    "from IPython.display import display\n",
    "import numpy as np\n",
    "import pandas as pd\n",
    "import seaborn as sns\n",
    "import matplotlib.pyplot as plt\n",
    "\n",
    "''' 데이터 전처리 모듈 '''\n",
    "from sklearn.preprocessing import StandardScaler\n",
    "from sklearn.model_selection import train_test_split\n",
    "\n",
    "''' 모델 학습용 모듈 '''\n",
    "from sklearn.svm import SVC\n",
    "from sklearn.semi_supervised import SelfTrainingClassifier\n",
    "\n",
    "''' 결과 평가용 모듈 '''\n",
    "from sklearn.metrics import confusion_matrix, accuracy_score, f1_score, precision_score, recall_score\n",
    "from sklearn.metrics import mean_squared_error, mean_absolute_error, r2_score, mean_absolute_percentage_error\n",
    "from sklearn.metrics import classification_report\n",
    "\n",
    "import warnings\n",
    "warnings.filterwarnings(\"ignore\")"
   ]
  },
  {
   "cell_type": "markdown",
   "id": "f457ec19",
   "metadata": {},
   "source": [
    "## 1. 분석 데이터: Pistachio Dataset (이진 분류 문제)"
   ]
  },
  {
   "cell_type": "markdown",
   "id": "2c62f7f5",
   "metadata": {},
   "source": [
    "### Task abstract : 피스타치오의 16가지 속성을 기반으로 피스타치오 종 분류"
   ]
  },
  {
   "cell_type": "markdown",
   "id": "a89d83a4",
   "metadata": {},
   "source": [
    "### 설명변수(X) : 피스타치오 속성"
   ]
  },
  {
   "cell_type": "markdown",
   "id": "1ce052bb",
   "metadata": {},
   "source": [
    "- AREA\n",
    "- PERIMETER\n",
    "- MAJOR_AXIS\n",
    "- MINOR_AXIS\n",
    "- ECCENTRICITY\n",
    "- EQDIASQ\n",
    "- SOLIDITY\n",
    "- CONVEX_AREA\n",
    "- EXTENT\n",
    "- ASPECT_RATIO \n",
    "- ROUNDNESS\n",
    "- COMPACTNESS\n",
    "- SHAPEFACTOR_1\n",
    "- SHAPEFACTOR_2\n",
    "- SHAPEFACTOR_3\n",
    "- SHAPEFACTOR_4"
   ]
  },
  {
   "cell_type": "markdown",
   "id": "ec45ec6e",
   "metadata": {},
   "source": [
    "### 반응변수(Y) : 피스타치오 종"
   ]
  },
  {
   "cell_type": "markdown",
   "id": "8b898737",
   "metadata": {},
   "source": [
    "- Species : Kirmizi_Pistachio, Siit_Pistachio  "
   ]
  },
  {
   "cell_type": "markdown",
   "id": "ec0cb6a3",
   "metadata": {},
   "source": [
    "### 1-1 데이터 전처리 및 탐색적 데이터 분석"
   ]
  },
  {
   "cell_type": "markdown",
   "id": "cfc228c5",
   "metadata": {},
   "source": [
    "### 데이터 불러오기"
   ]
  },
  {
   "cell_type": "code",
   "execution_count": 2,
   "id": "33197708",
   "metadata": {},
   "outputs": [],
   "source": [
    "data =  pd.read_csv('./Pistachio.csv', sep=\",\")"
   ]
  },
  {
   "cell_type": "markdown",
   "id": "10bdd4f4",
   "metadata": {},
   "source": [
    "### 데이터 확인"
   ]
  },
  {
   "cell_type": "code",
   "execution_count": 3,
   "id": "645753fc",
   "metadata": {},
   "outputs": [
    {
     "name": "stdout",
     "output_type": "stream",
     "text": [
      "Data shape: (2148, 17)\n"
     ]
    },
    {
     "data": {
      "text/html": [
       "<div>\n",
       "<style scoped>\n",
       "    .dataframe tbody tr th:only-of-type {\n",
       "        vertical-align: middle;\n",
       "    }\n",
       "\n",
       "    .dataframe tbody tr th {\n",
       "        vertical-align: top;\n",
       "    }\n",
       "\n",
       "    .dataframe thead th {\n",
       "        text-align: right;\n",
       "    }\n",
       "</style>\n",
       "<table border=\"1\" class=\"dataframe\">\n",
       "  <thead>\n",
       "    <tr style=\"text-align: right;\">\n",
       "      <th></th>\n",
       "      <th>AREA</th>\n",
       "      <th>PERIMETER</th>\n",
       "      <th>MAJOR_AXIS</th>\n",
       "      <th>MINOR_AXIS</th>\n",
       "      <th>ECCENTRICITY</th>\n",
       "      <th>EQDIASQ</th>\n",
       "      <th>SOLIDITY</th>\n",
       "      <th>CONVEX_AREA</th>\n",
       "      <th>EXTENT</th>\n",
       "      <th>ASPECT_RATIO</th>\n",
       "      <th>ROUNDNESS</th>\n",
       "      <th>COMPACTNESS</th>\n",
       "      <th>SHAPEFACTOR_1</th>\n",
       "      <th>SHAPEFACTOR_2</th>\n",
       "      <th>SHAPEFACTOR_3</th>\n",
       "      <th>SHAPEFACTOR_4</th>\n",
       "      <th>Class</th>\n",
       "    </tr>\n",
       "  </thead>\n",
       "  <tbody>\n",
       "    <tr>\n",
       "      <th>0</th>\n",
       "      <td>63391</td>\n",
       "      <td>1568.405</td>\n",
       "      <td>390.3396</td>\n",
       "      <td>236.7461</td>\n",
       "      <td>0.7951</td>\n",
       "      <td>284.0984</td>\n",
       "      <td>0.8665</td>\n",
       "      <td>73160</td>\n",
       "      <td>0.6394</td>\n",
       "      <td>1.6488</td>\n",
       "      <td>0.3238</td>\n",
       "      <td>0.7278</td>\n",
       "      <td>0.0062</td>\n",
       "      <td>0.0037</td>\n",
       "      <td>0.5297</td>\n",
       "      <td>0.8734</td>\n",
       "      <td>Kirmizi_Pistachio</td>\n",
       "    </tr>\n",
       "    <tr>\n",
       "      <th>1</th>\n",
       "      <td>68358</td>\n",
       "      <td>1942.187</td>\n",
       "      <td>410.8594</td>\n",
       "      <td>234.7525</td>\n",
       "      <td>0.8207</td>\n",
       "      <td>295.0188</td>\n",
       "      <td>0.8765</td>\n",
       "      <td>77991</td>\n",
       "      <td>0.6772</td>\n",
       "      <td>1.7502</td>\n",
       "      <td>0.2277</td>\n",
       "      <td>0.7181</td>\n",
       "      <td>0.0060</td>\n",
       "      <td>0.0034</td>\n",
       "      <td>0.5156</td>\n",
       "      <td>0.9024</td>\n",
       "      <td>Kirmizi_Pistachio</td>\n",
       "    </tr>\n",
       "    <tr>\n",
       "      <th>2</th>\n",
       "      <td>73589</td>\n",
       "      <td>1246.538</td>\n",
       "      <td>452.3630</td>\n",
       "      <td>220.5547</td>\n",
       "      <td>0.8731</td>\n",
       "      <td>306.0987</td>\n",
       "      <td>0.9172</td>\n",
       "      <td>80234</td>\n",
       "      <td>0.7127</td>\n",
       "      <td>2.0510</td>\n",
       "      <td>0.5951</td>\n",
       "      <td>0.6767</td>\n",
       "      <td>0.0061</td>\n",
       "      <td>0.0030</td>\n",
       "      <td>0.4579</td>\n",
       "      <td>0.9391</td>\n",
       "      <td>Kirmizi_Pistachio</td>\n",
       "    </tr>\n",
       "    <tr>\n",
       "      <th>3</th>\n",
       "      <td>71106</td>\n",
       "      <td>1445.261</td>\n",
       "      <td>429.5291</td>\n",
       "      <td>216.0765</td>\n",
       "      <td>0.8643</td>\n",
       "      <td>300.8903</td>\n",
       "      <td>0.9589</td>\n",
       "      <td>74153</td>\n",
       "      <td>0.7028</td>\n",
       "      <td>1.9879</td>\n",
       "      <td>0.4278</td>\n",
       "      <td>0.7005</td>\n",
       "      <td>0.0060</td>\n",
       "      <td>0.0030</td>\n",
       "      <td>0.4907</td>\n",
       "      <td>0.9755</td>\n",
       "      <td>Kirmizi_Pistachio</td>\n",
       "    </tr>\n",
       "    <tr>\n",
       "      <th>4</th>\n",
       "      <td>80087</td>\n",
       "      <td>1251.524</td>\n",
       "      <td>469.3783</td>\n",
       "      <td>220.9344</td>\n",
       "      <td>0.8823</td>\n",
       "      <td>319.3273</td>\n",
       "      <td>0.9657</td>\n",
       "      <td>82929</td>\n",
       "      <td>0.7459</td>\n",
       "      <td>2.1245</td>\n",
       "      <td>0.6425</td>\n",
       "      <td>0.6803</td>\n",
       "      <td>0.0059</td>\n",
       "      <td>0.0028</td>\n",
       "      <td>0.4628</td>\n",
       "      <td>0.9833</td>\n",
       "      <td>Kirmizi_Pistachio</td>\n",
       "    </tr>\n",
       "  </tbody>\n",
       "</table>\n",
       "</div>"
      ],
      "text/plain": [
       "    AREA  PERIMETER  MAJOR_AXIS  MINOR_AXIS  ECCENTRICITY   EQDIASQ  SOLIDITY  \\\n",
       "0  63391   1568.405    390.3396    236.7461        0.7951  284.0984    0.8665   \n",
       "1  68358   1942.187    410.8594    234.7525        0.8207  295.0188    0.8765   \n",
       "2  73589   1246.538    452.3630    220.5547        0.8731  306.0987    0.9172   \n",
       "3  71106   1445.261    429.5291    216.0765        0.8643  300.8903    0.9589   \n",
       "4  80087   1251.524    469.3783    220.9344        0.8823  319.3273    0.9657   \n",
       "\n",
       "   CONVEX_AREA  EXTENT  ASPECT_RATIO  ROUNDNESS  COMPACTNESS  SHAPEFACTOR_1  \\\n",
       "0        73160  0.6394        1.6488     0.3238       0.7278         0.0062   \n",
       "1        77991  0.6772        1.7502     0.2277       0.7181         0.0060   \n",
       "2        80234  0.7127        2.0510     0.5951       0.6767         0.0061   \n",
       "3        74153  0.7028        1.9879     0.4278       0.7005         0.0060   \n",
       "4        82929  0.7459        2.1245     0.6425       0.6803         0.0059   \n",
       "\n",
       "   SHAPEFACTOR_2  SHAPEFACTOR_3  SHAPEFACTOR_4              Class  \n",
       "0         0.0037         0.5297         0.8734  Kirmizi_Pistachio  \n",
       "1         0.0034         0.5156         0.9024  Kirmizi_Pistachio  \n",
       "2         0.0030         0.4579         0.9391  Kirmizi_Pistachio  \n",
       "3         0.0030         0.4907         0.9755  Kirmizi_Pistachio  \n",
       "4         0.0028         0.4628         0.9833  Kirmizi_Pistachio  "
      ]
     },
     "execution_count": 3,
     "metadata": {},
     "output_type": "execute_result"
    }
   ],
   "source": [
    "print('Data shape: {}'.format(data.shape))\n",
    "data.head()"
   ]
  },
  {
   "cell_type": "code",
   "execution_count": 4,
   "id": "d60d00d9",
   "metadata": {},
   "outputs": [
    {
     "data": {
      "text/html": [
       "<div>\n",
       "<style scoped>\n",
       "    .dataframe tbody tr th:only-of-type {\n",
       "        vertical-align: middle;\n",
       "    }\n",
       "\n",
       "    .dataframe tbody tr th {\n",
       "        vertical-align: top;\n",
       "    }\n",
       "\n",
       "    .dataframe thead th {\n",
       "        text-align: right;\n",
       "    }\n",
       "</style>\n",
       "<table border=\"1\" class=\"dataframe\">\n",
       "  <thead>\n",
       "    <tr style=\"text-align: right;\">\n",
       "      <th></th>\n",
       "      <th>AREA</th>\n",
       "      <th>PERIMETER</th>\n",
       "      <th>MAJOR_AXIS</th>\n",
       "      <th>MINOR_AXIS</th>\n",
       "      <th>ECCENTRICITY</th>\n",
       "      <th>EQDIASQ</th>\n",
       "      <th>SOLIDITY</th>\n",
       "      <th>CONVEX_AREA</th>\n",
       "      <th>EXTENT</th>\n",
       "      <th>ASPECT_RATIO</th>\n",
       "      <th>ROUNDNESS</th>\n",
       "      <th>COMPACTNESS</th>\n",
       "      <th>SHAPEFACTOR_1</th>\n",
       "      <th>SHAPEFACTOR_2</th>\n",
       "      <th>SHAPEFACTOR_3</th>\n",
       "      <th>SHAPEFACTOR_4</th>\n",
       "    </tr>\n",
       "  </thead>\n",
       "  <tbody>\n",
       "    <tr>\n",
       "      <th>count</th>\n",
       "      <td>2148.000000</td>\n",
       "      <td>2148.000000</td>\n",
       "      <td>2148.000000</td>\n",
       "      <td>2148.000000</td>\n",
       "      <td>2148.000000</td>\n",
       "      <td>2148.000000</td>\n",
       "      <td>2148.000000</td>\n",
       "      <td>2148.000000</td>\n",
       "      <td>2148.000000</td>\n",
       "      <td>2148.000000</td>\n",
       "      <td>2148.000000</td>\n",
       "      <td>2148.000000</td>\n",
       "      <td>2148.000000</td>\n",
       "      <td>2148.000000</td>\n",
       "      <td>2148.000000</td>\n",
       "      <td>2148.000000</td>\n",
       "    </tr>\n",
       "    <tr>\n",
       "      <th>mean</th>\n",
       "      <td>79950.655493</td>\n",
       "      <td>1425.971751</td>\n",
       "      <td>446.248968</td>\n",
       "      <td>238.311842</td>\n",
       "      <td>0.840219</td>\n",
       "      <td>317.919173</td>\n",
       "      <td>0.940093</td>\n",
       "      <td>85015.839851</td>\n",
       "      <td>0.716067</td>\n",
       "      <td>1.898154</td>\n",
       "      <td>0.569172</td>\n",
       "      <td>0.713077</td>\n",
       "      <td>0.005701</td>\n",
       "      <td>0.003017</td>\n",
       "      <td>0.510461</td>\n",
       "      <td>0.955239</td>\n",
       "    </tr>\n",
       "    <tr>\n",
       "      <th>std</th>\n",
       "      <td>13121.737799</td>\n",
       "      <td>375.565503</td>\n",
       "      <td>32.445304</td>\n",
       "      <td>30.310695</td>\n",
       "      <td>0.048759</td>\n",
       "      <td>26.908600</td>\n",
       "      <td>0.050452</td>\n",
       "      <td>13154.919327</td>\n",
       "      <td>0.052532</td>\n",
       "      <td>0.240100</td>\n",
       "      <td>0.212760</td>\n",
       "      <td>0.044547</td>\n",
       "      <td>0.000817</td>\n",
       "      <td>0.000340</td>\n",
       "      <td>0.063942</td>\n",
       "      <td>0.051840</td>\n",
       "    </tr>\n",
       "    <tr>\n",
       "      <th>min</th>\n",
       "      <td>29808.000000</td>\n",
       "      <td>858.363000</td>\n",
       "      <td>320.344500</td>\n",
       "      <td>133.509600</td>\n",
       "      <td>0.504900</td>\n",
       "      <td>194.814600</td>\n",
       "      <td>0.588000</td>\n",
       "      <td>37935.000000</td>\n",
       "      <td>0.427200</td>\n",
       "      <td>1.158500</td>\n",
       "      <td>0.062800</td>\n",
       "      <td>0.476000</td>\n",
       "      <td>0.004000</td>\n",
       "      <td>0.002400</td>\n",
       "      <td>0.226600</td>\n",
       "      <td>0.620400</td>\n",
       "    </tr>\n",
       "    <tr>\n",
       "      <th>25%</th>\n",
       "      <td>71936.750000</td>\n",
       "      <td>1170.996250</td>\n",
       "      <td>426.508750</td>\n",
       "      <td>217.875825</td>\n",
       "      <td>0.817500</td>\n",
       "      <td>302.642850</td>\n",
       "      <td>0.919850</td>\n",
       "      <td>76467.000000</td>\n",
       "      <td>0.687000</td>\n",
       "      <td>1.736375</td>\n",
       "      <td>0.371250</td>\n",
       "      <td>0.681550</td>\n",
       "      <td>0.005200</td>\n",
       "      <td>0.002800</td>\n",
       "      <td>0.464475</td>\n",
       "      <td>0.944000</td>\n",
       "    </tr>\n",
       "    <tr>\n",
       "      <th>50%</th>\n",
       "      <td>79905.500000</td>\n",
       "      <td>1262.785500</td>\n",
       "      <td>448.574750</td>\n",
       "      <td>236.416350</td>\n",
       "      <td>0.849650</td>\n",
       "      <td>318.965300</td>\n",
       "      <td>0.954150</td>\n",
       "      <td>85075.500000</td>\n",
       "      <td>0.726500</td>\n",
       "      <td>1.896250</td>\n",
       "      <td>0.643400</td>\n",
       "      <td>0.710700</td>\n",
       "      <td>0.005600</td>\n",
       "      <td>0.003000</td>\n",
       "      <td>0.505150</td>\n",
       "      <td>0.973100</td>\n",
       "    </tr>\n",
       "    <tr>\n",
       "      <th>75%</th>\n",
       "      <td>89030.500000</td>\n",
       "      <td>1607.906250</td>\n",
       "      <td>468.509400</td>\n",
       "      <td>257.760150</td>\n",
       "      <td>0.875200</td>\n",
       "      <td>336.685525</td>\n",
       "      <td>0.976925</td>\n",
       "      <td>93893.500000</td>\n",
       "      <td>0.753600</td>\n",
       "      <td>2.067025</td>\n",
       "      <td>0.744125</td>\n",
       "      <td>0.741650</td>\n",
       "      <td>0.006100</td>\n",
       "      <td>0.003200</td>\n",
       "      <td>0.550075</td>\n",
       "      <td>0.987300</td>\n",
       "    </tr>\n",
       "    <tr>\n",
       "      <th>max</th>\n",
       "      <td>124008.000000</td>\n",
       "      <td>2755.049100</td>\n",
       "      <td>541.966100</td>\n",
       "      <td>383.046100</td>\n",
       "      <td>0.946000</td>\n",
       "      <td>397.356100</td>\n",
       "      <td>0.995100</td>\n",
       "      <td>132478.000000</td>\n",
       "      <td>0.820400</td>\n",
       "      <td>3.085800</td>\n",
       "      <td>0.933600</td>\n",
       "      <td>0.877900</td>\n",
       "      <td>0.013100</td>\n",
       "      <td>0.005300</td>\n",
       "      <td>0.770600</td>\n",
       "      <td>0.999000</td>\n",
       "    </tr>\n",
       "  </tbody>\n",
       "</table>\n",
       "</div>"
      ],
      "text/plain": [
       "                AREA    PERIMETER   MAJOR_AXIS   MINOR_AXIS  ECCENTRICITY  \\\n",
       "count    2148.000000  2148.000000  2148.000000  2148.000000   2148.000000   \n",
       "mean    79950.655493  1425.971751   446.248968   238.311842      0.840219   \n",
       "std     13121.737799   375.565503    32.445304    30.310695      0.048759   \n",
       "min     29808.000000   858.363000   320.344500   133.509600      0.504900   \n",
       "25%     71936.750000  1170.996250   426.508750   217.875825      0.817500   \n",
       "50%     79905.500000  1262.785500   448.574750   236.416350      0.849650   \n",
       "75%     89030.500000  1607.906250   468.509400   257.760150      0.875200   \n",
       "max    124008.000000  2755.049100   541.966100   383.046100      0.946000   \n",
       "\n",
       "           EQDIASQ     SOLIDITY    CONVEX_AREA       EXTENT  ASPECT_RATIO  \\\n",
       "count  2148.000000  2148.000000    2148.000000  2148.000000   2148.000000   \n",
       "mean    317.919173     0.940093   85015.839851     0.716067      1.898154   \n",
       "std      26.908600     0.050452   13154.919327     0.052532      0.240100   \n",
       "min     194.814600     0.588000   37935.000000     0.427200      1.158500   \n",
       "25%     302.642850     0.919850   76467.000000     0.687000      1.736375   \n",
       "50%     318.965300     0.954150   85075.500000     0.726500      1.896250   \n",
       "75%     336.685525     0.976925   93893.500000     0.753600      2.067025   \n",
       "max     397.356100     0.995100  132478.000000     0.820400      3.085800   \n",
       "\n",
       "         ROUNDNESS  COMPACTNESS  SHAPEFACTOR_1  SHAPEFACTOR_2  SHAPEFACTOR_3  \\\n",
       "count  2148.000000  2148.000000    2148.000000    2148.000000    2148.000000   \n",
       "mean      0.569172     0.713077       0.005701       0.003017       0.510461   \n",
       "std       0.212760     0.044547       0.000817       0.000340       0.063942   \n",
       "min       0.062800     0.476000       0.004000       0.002400       0.226600   \n",
       "25%       0.371250     0.681550       0.005200       0.002800       0.464475   \n",
       "50%       0.643400     0.710700       0.005600       0.003000       0.505150   \n",
       "75%       0.744125     0.741650       0.006100       0.003200       0.550075   \n",
       "max       0.933600     0.877900       0.013100       0.005300       0.770600   \n",
       "\n",
       "       SHAPEFACTOR_4  \n",
       "count    2148.000000  \n",
       "mean        0.955239  \n",
       "std         0.051840  \n",
       "min         0.620400  \n",
       "25%         0.944000  \n",
       "50%         0.973100  \n",
       "75%         0.987300  \n",
       "max         0.999000  "
      ]
     },
     "execution_count": 4,
     "metadata": {},
     "output_type": "execute_result"
    }
   ],
   "source": [
    "data.describe()"
   ]
  },
  {
   "cell_type": "markdown",
   "id": "f2cdd438",
   "metadata": {},
   "source": [
    "### 클래스 비율 확인"
   ]
  },
  {
   "cell_type": "code",
   "execution_count": 5,
   "id": "6cbadb75",
   "metadata": {},
   "outputs": [
    {
     "data": {
      "text/plain": [
       "Kirmizi_Pistachio    1232\n",
       "Siit_Pistachio        916\n",
       "Name: Class, dtype: int64"
      ]
     },
     "execution_count": 5,
     "metadata": {},
     "output_type": "execute_result"
    }
   ],
   "source": [
    "data['Class'].value_counts()"
   ]
  },
  {
   "cell_type": "markdown",
   "id": "cced8de5",
   "metadata": {},
   "source": [
    "### 결측치 확인"
   ]
  },
  {
   "cell_type": "code",
   "execution_count": 6,
   "id": "d5136b51",
   "metadata": {},
   "outputs": [
    {
     "data": {
      "text/plain": [
       "AREA             0\n",
       "PERIMETER        0\n",
       "MAJOR_AXIS       0\n",
       "MINOR_AXIS       0\n",
       "ECCENTRICITY     0\n",
       "EQDIASQ          0\n",
       "SOLIDITY         0\n",
       "CONVEX_AREA      0\n",
       "EXTENT           0\n",
       "ASPECT_RATIO     0\n",
       "ROUNDNESS        0\n",
       "COMPACTNESS      0\n",
       "SHAPEFACTOR_1    0\n",
       "SHAPEFACTOR_2    0\n",
       "SHAPEFACTOR_3    0\n",
       "SHAPEFACTOR_4    0\n",
       "Class            0\n",
       "dtype: int64"
      ]
     },
     "execution_count": 6,
     "metadata": {},
     "output_type": "execute_result"
    }
   ],
   "source": [
    "data.isnull().sum()"
   ]
  },
  {
   "cell_type": "markdown",
   "id": "b75e4120",
   "metadata": {},
   "source": [
    "### 1-2 학습 데이터(Training Dataset), 테스트 데이터(Testing Dataset) 정의"
   ]
  },
  {
   "cell_type": "markdown",
   "id": "bc4d9718",
   "metadata": {},
   "source": [
    "### 학습 데이터, 테스트 데이터 분리"
   ]
  },
  {
   "cell_type": "code",
   "execution_count": 7,
   "id": "75fa8c2a",
   "metadata": {},
   "outputs": [
    {
     "name": "stdout",
     "output_type": "stream",
     "text": [
      "Size of train dataframe:  1611\n",
      "Size of test dataframe:  537\n"
     ]
    }
   ],
   "source": [
    "df_train, df_test = train_test_split(data, test_size = 0.25, random_state =0)\n",
    "print('Size of train dataframe: ', df_train.shape[0])\n",
    "print('Size of test dataframe: ', df_test.shape[0])"
   ]
  },
  {
   "cell_type": "markdown",
   "id": "f3bb45a7",
   "metadata": {},
   "source": [
    "##### Train Data를 Labeled Data, Unlabeled Data로 Split \n",
    "- Random_Mask column을 추가\n",
    "- Labeled Data => -1, Unlabeled Data => 1을 가지도록 설정\n",
    "- frac으로 Labeled Data의 비율을 설정\n",
    "- New_Target column을 추가\n",
    "- Random_Mask => -1인 데이터들은 New_Target에 실제 Class value 할당\n",
    "- Random_Mask => 1인 데이터들은 New_Target에 -1을 value로 할당"
   ]
  },
  {
   "cell_type": "code",
   "execution_count": 8,
   "id": "e3985fdd",
   "metadata": {},
   "outputs": [
    {
     "data": {
      "text/plain": [
       "-1                   1595\n",
       "Kirmizi_Pistachio      11\n",
       "Siit_Pistachio          5\n",
       "Name: New_Target, dtype: int64"
      ]
     },
     "execution_count": 8,
     "metadata": {},
     "output_type": "execute_result"
    }
   ],
   "source": [
    "df_train['Random_Mask'] = True\n",
    "df_train.loc[df_train.sample(frac=0.01, random_state = 0).index, 'Random_Mask'] = False\n",
    "df_train['New_Target'] = df_train.apply(lambda x: x['Class'] if x['Random_Mask'] ==False else -1, axis = 1)\n",
    "df_train['New_Target'].value_counts()"
   ]
  },
  {
   "cell_type": "markdown",
   "id": "85f49d67",
   "metadata": {},
   "source": [
    "## 2. Model Training, Testing"
   ]
  },
  {
   "cell_type": "markdown",
   "id": "f82a4b58",
   "metadata": {},
   "source": [
    "- Labeled Data만 사용해 학습한 Supervised Learning Model과 Unlabeled Data도 사용하여 학습한 Semi-Supervised Learning Model의 성능을 비교"
   ]
  },
  {
   "cell_type": "markdown",
   "id": "81f99b56",
   "metadata": {},
   "source": [
    "### 학습에 사용한 Machine Learning Model - SVM(Support Vector Machine)\n",
    "- Margin을 최대화 하는 방향으로 경계면을 최적화하는 기법 : 일반화 오차를 줄여 새로운 데이터를 잘 분류하도록 함\n",
    "- Margin : Class를 구분하는 결정 경계(decision boundary)와 가장 가까운 훈련 샘플 사이의 거리를 의미\n",
    "- 마진에 걸쳐있는 샘플들을 Suppor Vector라고 명칭"
   ]
  },
  {
   "cell_type": "markdown",
   "id": "358164e3",
   "metadata": {},
   "source": [
    "### 2-1. Baseline Model Training\n",
    "- Labeled Data만 사용한 Supervised Learning Model 구축"
   ]
  },
  {
   "cell_type": "markdown",
   "id": "94957746",
   "metadata": {},
   "source": [
    "##### Labeled Data 의  Train Data, Test Data 정의"
   ]
  },
  {
   "cell_type": "code",
   "execution_count": 9,
   "id": "311128d7",
   "metadata": {},
   "outputs": [],
   "source": [
    "df_train_labeled = df_train[df_train['New_Target']!=-1]\n",
    "\n",
    "X_baseline = df_train_labeled.drop(['Class', 'Random_Mask', 'New_Target'], axis = 1)\n",
    "y_baseline = df_train_labeled['New_Target'].values\n",
    "\n",
    "X_test = df_test.drop(['Class'], axis = 1)\n",
    "y_test = df_test['Class'].values"
   ]
  },
  {
   "cell_type": "markdown",
   "id": "3f46ab4d",
   "metadata": {},
   "source": [
    "##### Baseline Model Training & Testing"
   ]
  },
  {
   "cell_type": "markdown",
   "id": "b8f7c108",
   "metadata": {},
   "source": [
    "##### Sklearn SVC Parameters\n",
    "- kernel : 어떤 kernel trick을 활용할지 지정 ('linear', 'poly', 'rbf', 'sigmoid', 'precomputed') \n",
    "- C, gamma : decision boundary 조절 역할 -> Margin을 크게하여 일반화 오차를 줄이는 것 vs 학습 데이터를 잘 분류하도록 하는 것"
   ]
  },
  {
   "cell_type": "code",
   "execution_count": 10,
   "id": "92f1ca74",
   "metadata": {},
   "outputs": [
    {
     "name": "stdout",
     "output_type": "stream",
     "text": [
      "---------- SVC Baseline Model - Evaluation on Test Data ----------\n",
      "Accuracy Score:  0.5772811918063314\n",
      "                   precision    recall  f1-score   support\n",
      "\n",
      "Kirmizi_Pistachio       0.58      1.00      0.73       310\n",
      "   Siit_Pistachio       0.00      0.00      0.00       227\n",
      "\n",
      "         accuracy                           0.58       537\n",
      "        macro avg       0.29      0.50      0.37       537\n",
      "     weighted avg       0.33      0.58      0.42       537\n",
      "\n"
     ]
    }
   ],
   "source": [
    "model =SVC(kernel='rbf', \n",
    "            probability=True, \n",
    "            C=1.0, # default = 1.0\n",
    "            gamma='scale', # default = 'scale'\n",
    "            random_state=0\n",
    "           )\n",
    "\n",
    "\n",
    "clf = model.fit(X_baseline, y_baseline)\n",
    "\n",
    "print('---------- SVC Baseline Model - Evaluation on Test Data ----------')\n",
    "accuracy_score_B = clf.score(X_test, y_test)\n",
    "print('Accuracy Score: ', accuracy_score_B)\n",
    "print(classification_report(y_test, clf.predict(X_test)))"
   ]
  },
  {
   "cell_type": "markdown",
   "id": "febe6995",
   "metadata": {},
   "source": [
    "### 2-2. Self-Training Model Training\n",
    "- Unlabeled data, Labeled Data를 모두 활용해 Semi-Supervised Learining Model 구축"
   ]
  },
  {
   "cell_type": "markdown",
   "id": "40af55a6",
   "metadata": {},
   "source": [
    "##### Self-Training Train Data, Test Data 정의"
   ]
  },
  {
   "cell_type": "code",
   "execution_count": 11,
   "id": "c33c9ee8",
   "metadata": {},
   "outputs": [],
   "source": [
    "X_train = df_train.drop(['Class', 'Random_Mask', 'New_Target'], axis = 1)\n",
    "y_train = df_train['New_Target'].values"
   ]
  },
  {
   "cell_type": "markdown",
   "id": "6ddcf2da",
   "metadata": {},
   "source": [
    "##### Self-Training & Testing"
   ]
  },
  {
   "cell_type": "markdown",
   "id": "5fcd7895",
   "metadata": {},
   "source": [
    "##### Sklearn SelfTrainingClassifier Parameters\n",
    "\n",
    "- base_estimator : fit, predict_probability를 구현하는 추정기, 학습에 사용하는 모델\n",
    "\n",
    "- criterion : pseudo labeled 데이터 중 훈련 데이터에 추가할 데이터를 선택하는 기준 ('threshold' -> 예측 확률이 threshold 이상인 데이터들을 훈련 데이터에 추가, 'k-best' -> 예측 확률이 가장 높은 k개의 데이터를 훈련 데이터로 추가)\n",
    "\n",
    "- threshold : criterion이 'threshold'일 경우 임계값 지정\n",
    "\n",
    "- k-best : criterion이 'k-best'일 경우 k값 지정\n",
    "\n",
    "- max-iter : pseudo labeling, training 최대 반복 횟수를 지정"
   ]
  },
  {
   "cell_type": "code",
   "execution_count": 12,
   "id": "be29ee95",
   "metadata": {},
   "outputs": [
    {
     "name": "stdout",
     "output_type": "stream",
     "text": [
      "End of iteration 1, added 591 new labels.\n",
      "End of iteration 2, added 723 new labels.\n",
      "End of iteration 3, added 167 new labels.\n",
      "End of iteration 4, added 42 new labels.\n",
      "End of iteration 5, added 7 new labels.\n",
      "\n",
      "---------- Self Training Model - Summary ----------\n",
      "Base Estimator:  SVC(probability=True, random_state=0)\n",
      "Classes:  ['Kirmizi_Pistachio' 'Siit_Pistachio']\n",
      "Transduction Labels:  ['Kirmizi_Pistachio' 'Kirmizi_Pistachio' 'Siit_Pistachio' ...\n",
      " 'Siit_Pistachio' 'Kirmizi_Pistachio' 'Siit_Pistachio']\n",
      "Number of Features:  16\n",
      "Number of Iterations:  6\n",
      "Termination Condition:  no_change\n",
      "\n",
      "---------- Self Training Model - Evaluation on Test Data ----------\n",
      "Accuracy Score:  0.7486033519553073\n",
      "                   precision    recall  f1-score   support\n",
      "\n",
      "Kirmizi_Pistachio       0.70      0.97      0.82       310\n",
      "   Siit_Pistachio       0.92      0.44      0.60       227\n",
      "\n",
      "         accuracy                           0.75       537\n",
      "        macro avg       0.81      0.71      0.71       537\n",
      "     weighted avg       0.80      0.75      0.72       537\n",
      "\n"
     ]
    }
   ],
   "source": [
    "model_svc = SVC(kernel='rbf', \n",
    "            probability=True, \n",
    "            C=1.0, # default = 1.0\n",
    "            gamma='scale', # default = 'scale'\n",
    "            random_state=0\n",
    "           )\n",
    "\n",
    "self_training_model = SelfTrainingClassifier(base_estimator = model_svc,\n",
    "                                            threshold = 0.75,\n",
    "                                            criterion = 'threshold',\n",
    "                                            max_iter = 10,\n",
    "                                            verbose = True\n",
    "                                            )\n",
    "\n",
    "clf_ST = self_training_model.fit(X_train, y_train)\n",
    "\n",
    "print('')\n",
    "print('---------- Self Training Model - Summary ----------')\n",
    "print('Base Estimator: ', clf_ST.base_estimator_)\n",
    "print('Classes: ', clf_ST.classes_)\n",
    "print('Transduction Labels: ', clf_ST.transduction_)\n",
    "\n",
    "#print('Iteration When Sample Was Labeled: ', clf_ST.labeled_iter_)\n",
    "print('Number of Features: ', clf_ST.n_features_in_)\n",
    "print('Number of Iterations: ', clf_ST.n_iter_)\n",
    "print('Termination Condition: ', clf_ST.termination_condition_)\n",
    "print('')\n",
    "\n",
    "print('---------- Self Training Model - Evaluation on Test Data ----------')\n",
    "accuracy_score_ST = clf_ST.score(X_test, y_test)\n",
    "print('Accuracy Score: ', accuracy_score_ST)\n",
    "print(classification_report(y_test, clf_ST.predict(X_test)))"
   ]
  }
 ],
 "metadata": {
  "kernelspec": {
   "display_name": "Python 3 (ipykernel)",
   "language": "python",
   "name": "python3"
  },
  "language_info": {
   "codemirror_mode": {
    "name": "ipython",
    "version": 3
   },
   "file_extension": ".py",
   "mimetype": "text/x-python",
   "name": "python",
   "nbconvert_exporter": "python",
   "pygments_lexer": "ipython3",
   "version": "3.7.11"
  }
 },
 "nbformat": 4,
 "nbformat_minor": 5
}
